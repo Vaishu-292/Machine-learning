{
 "cells": [
  {
   "cell_type": "code",
   "execution_count": 1,
   "id": "d58a846b-7d72-41a8-8a1c-a2d56adaee45",
   "metadata": {},
   "outputs": [],
   "source": [
    "import numpy as np "
   ]
  },
  {
   "cell_type": "code",
   "execution_count": 2,
   "id": "e025c743-d024-4326-8f1e-316ae8388dfd",
   "metadata": {},
   "outputs": [
    {
     "data": {
      "text/plain": [
       "[30, 20, 5, 8, 9]"
      ]
     },
     "execution_count": 2,
     "metadata": {},
     "output_type": "execute_result"
    }
   ],
   "source": [
    "h=[30,20,5,8,9]\n",
    "h"
   ]
  },
  {
   "cell_type": "code",
   "execution_count": 3,
   "id": "6b8e147e-a34f-4bc8-9b0d-2714d06364ab",
   "metadata": {},
   "outputs": [],
   "source": [
    "d=[]\n",
    "for i in h:\n",
    "    d.append(i+5)"
   ]
  },
  {
   "cell_type": "code",
   "execution_count": 4,
   "id": "00c3b73e-3244-48d9-8bcd-74357f5d62f6",
   "metadata": {},
   "outputs": [
    {
     "data": {
      "text/plain": [
       "[35, 25, 10, 13, 14]"
      ]
     },
     "execution_count": 4,
     "metadata": {},
     "output_type": "execute_result"
    }
   ],
   "source": [
    "d"
   ]
  },
  {
   "cell_type": "code",
   "execution_count": 5,
   "id": "19e59463-04e6-4104-b4ec-89331ae5295c",
   "metadata": {},
   "outputs": [
    {
     "data": {
      "text/plain": [
       "(6, 2, 3, 9, 7, 5, 8)"
      ]
     },
     "execution_count": 5,
     "metadata": {},
     "output_type": "execute_result"
    }
   ],
   "source": [
    "s=(6,2,3,9,7,5,8)\n",
    "s"
   ]
  },
  {
   "cell_type": "code",
   "execution_count": 6,
   "id": "8ff6c746-9ee9-4f1c-b6fc-e562d3d8fa33",
   "metadata": {},
   "outputs": [
    {
     "data": {
      "text/plain": [
       "[36, 4, 9, 81, 49, 25, 64]"
      ]
     },
     "execution_count": 6,
     "metadata": {},
     "output_type": "execute_result"
    }
   ],
   "source": [
    "y=list(s)\n",
    "k=[]\n",
    "for i in y:\n",
    "    k.append(i**2)\n",
    "s=tuple(k)\n",
    "k"
   ]
  },
  {
   "cell_type": "code",
   "execution_count": 7,
   "id": "47d6c667-4713-4746-80bd-59e14745c22b",
   "metadata": {},
   "outputs": [
    {
     "data": {
      "text/plain": [
       "(36, 4, 9, 81, 49, 25, 64)"
      ]
     },
     "execution_count": 7,
     "metadata": {},
     "output_type": "execute_result"
    }
   ],
   "source": [
    "s"
   ]
  },
  {
   "cell_type": "code",
   "execution_count": 8,
   "id": "86c0d919-41bd-4099-9490-365587629fea",
   "metadata": {},
   "outputs": [],
   "source": [
    "m=[]\n",
    "for i in s:\n",
    "    if i>30:\n",
    "        m.append(i)"
   ]
  },
  {
   "cell_type": "code",
   "execution_count": 9,
   "id": "213e6b12-2a99-40aa-a782-60e73dbd7faf",
   "metadata": {},
   "outputs": [
    {
     "data": {
      "text/plain": [
       "[36, 81, 49, 64]"
      ]
     },
     "execution_count": 9,
     "metadata": {},
     "output_type": "execute_result"
    }
   ],
   "source": [
    "m"
   ]
  },
  {
   "cell_type": "code",
   "execution_count": 10,
   "id": "7c1ca2e1-7956-4bd7-a3ab-07002b408ae3",
   "metadata": {},
   "outputs": [],
   "source": [
    "arr=np.array([20,50,30,70,80,40,36,54,23,98])"
   ]
  },
  {
   "cell_type": "code",
   "execution_count": 11,
   "id": "cea54b36-ece1-47da-b84c-1d13387deca6",
   "metadata": {},
   "outputs": [
    {
     "data": {
      "text/plain": [
       "array([20, 50, 30, 70, 80, 40, 36, 54, 23, 98])"
      ]
     },
     "execution_count": 11,
     "metadata": {},
     "output_type": "execute_result"
    }
   ],
   "source": [
    "arr"
   ]
  },
  {
   "cell_type": "code",
   "execution_count": 12,
   "id": "64ba7ba5-ccb8-4f2c-a681-f8ada2f57287",
   "metadata": {},
   "outputs": [
    {
     "data": {
      "text/plain": [
       "array([100, 250, 150, 350, 400, 200, 180, 270, 115, 490])"
      ]
     },
     "execution_count": 12,
     "metadata": {},
     "output_type": "execute_result"
    }
   ],
   "source": [
    "arr*5"
   ]
  },
  {
   "cell_type": "code",
   "execution_count": 13,
   "id": "3111afcf-828c-43ea-bc46-db6891b3eea7",
   "metadata": {},
   "outputs": [
    {
     "data": {
      "text/plain": [
       "array([10. , 25. , 15. , 35. , 40. , 20. , 18. , 27. , 11.5, 49. ])"
      ]
     },
     "execution_count": 13,
     "metadata": {},
     "output_type": "execute_result"
    }
   ],
   "source": [
    "arr/2"
   ]
  },
  {
   "cell_type": "code",
   "execution_count": null,
   "id": "a70b4000-67c1-4461-bf9e-1e203808aba8",
   "metadata": {},
   "outputs": [],
   "source": [
    "arr**2\n"
   ]
  }
 ],
 "metadata": {
  "kernelspec": {
   "display_name": "Python 3 (ipykernel)",
   "language": "python",
   "name": "python3"
  },
  "language_info": {
   "codemirror_mode": {
    "name": "ipython",
    "version": 3
   },
   "file_extension": ".py",
   "mimetype": "text/x-python",
   "name": "python",
   "nbconvert_exporter": "python",
   "pygments_lexer": "ipython3",
   "version": "3.12.7"
  }
 },
 "nbformat": 4,
 "nbformat_minor": 5
}
