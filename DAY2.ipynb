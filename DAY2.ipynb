{
 "cells": [
  {
   "cell_type": "code",
   "execution_count": 1,
   "id": "d1f3ce62-949f-4187-a051-df37d987161b",
   "metadata": {},
   "outputs": [
    {
     "data": {
      "text/plain": [
       "{101: 200, 102: 60, 105: 50}"
      ]
     },
     "execution_count": 1,
     "metadata": {},
     "output_type": "execute_result"
    }
   ],
   "source": [
    "d={101: 200,102: 60,105: 50}\n",
    "d"
   ]
  },
  {
   "cell_type": "code",
   "execution_count": 2,
   "id": "8c05619e-84f5-4855-a324-acbe25f59966",
   "metadata": {},
   "outputs": [
    {
     "data": {
      "text/plain": [
       "{101: 'india', 102: 60, 105: 50}"
      ]
     },
     "execution_count": 2,
     "metadata": {},
     "output_type": "execute_result"
    }
   ],
   "source": [
    "d.update({101: 'india'})\n",
    "d"
   ]
  },
  {
   "cell_type": "code",
   "execution_count": 3,
   "id": "f2d526e2-ab52-422b-9bc7-2c143ed7e8af",
   "metadata": {},
   "outputs": [
    {
     "data": {
      "text/plain": [
       "dict_keys([101, 102, 105])"
      ]
     },
     "execution_count": 3,
     "metadata": {},
     "output_type": "execute_result"
    }
   ],
   "source": [
    "d.keys()"
   ]
  },
  {
   "cell_type": "code",
   "execution_count": 4,
   "id": "794f2b2a-d179-4424-a3bc-ab7a1596c02c",
   "metadata": {},
   "outputs": [
    {
     "data": {
      "text/plain": [
       "dict_items([(101, 'india'), (102, 60), (105, 50)])"
      ]
     },
     "execution_count": 4,
     "metadata": {},
     "output_type": "execute_result"
    }
   ],
   "source": [
    "d.items()"
   ]
  },
  {
   "cell_type": "code",
   "execution_count": 5,
   "id": "7db42e15-6978-447e-8d41-1cbf8bbbaa6d",
   "metadata": {},
   "outputs": [
    {
     "data": {
      "text/plain": [
       "dict_values(['india', 60, 50])"
      ]
     },
     "execution_count": 5,
     "metadata": {},
     "output_type": "execute_result"
    }
   ],
   "source": [
    "d.values()"
   ]
  },
  {
   "cell_type": "code",
   "execution_count": 6,
   "id": "b8f947b4-627e-422c-9169-daf25ee930a2",
   "metadata": {},
   "outputs": [
    {
     "data": {
      "text/plain": [
       "{101: 'india', 102: 60, 105: [11, 15, 13]}"
      ]
     },
     "execution_count": 6,
     "metadata": {},
     "output_type": "execute_result"
    }
   ],
   "source": [
    "d[105]=[11,15,13]\n",
    "d"
   ]
  },
  {
   "cell_type": "code",
   "execution_count": 7,
   "id": "03518213-1c32-4f4d-a634-404e1ce50753",
   "metadata": {},
   "outputs": [
    {
     "data": {
      "text/plain": [
       "str"
      ]
     },
     "execution_count": 7,
     "metadata": {},
     "output_type": "execute_result"
    }
   ],
   "source": [
    "type(d[101])"
   ]
  },
  {
   "cell_type": "markdown",
   "id": "a13c5c7f-c4bf-4347-9b1c-eaeeb9fbd0cb",
   "metadata": {},
   "source": [
    "d={101: 600\n",
    "102: 600,\n",
    "103: 'india',\n",
    "104: 4000,\n",
    "107: 'india',\n",
    "106: 99}"
   ]
  },
  {
   "cell_type": "code",
   "execution_count": 9,
   "id": "961e8c5d-6f5e-4be0-a1a7-c48da0af63e8",
   "metadata": {},
   "outputs": [
    {
     "data": {
      "text/plain": [
       "{101: 200,\n",
       " 102: 600,\n",
       " 103: 'india',\n",
       " 104: 4000,\n",
       " 107: 'india',\n",
       " 106: [100, 2000, 3000]}"
      ]
     },
     "execution_count": 9,
     "metadata": {},
     "output_type": "execute_result"
    }
   ],
   "source": [
    "d1={101: 200, 102: 600, 103: 'india', 104: 4000, 107: 'india',106: [100,2000,3000]}\n",
    "d1"
   ]
  },
  {
   "cell_type": "code",
   "execution_count": 10,
   "id": "e81b64d1-342a-4caf-a595-4ee3c6ff4d4c",
   "metadata": {},
   "outputs": [
    {
     "data": {
      "text/plain": [
       "4000"
      ]
     },
     "execution_count": 10,
     "metadata": {},
     "output_type": "execute_result"
    }
   ],
   "source": [
    "d1[104]"
   ]
  },
  {
   "cell_type": "code",
   "execution_count": 11,
   "id": "4c89bfb6-c1d0-4020-a6fc-014bc1fc5bee",
   "metadata": {},
   "outputs": [
    {
     "data": {
      "text/plain": [
       "int"
      ]
     },
     "execution_count": 11,
     "metadata": {},
     "output_type": "execute_result"
    }
   ],
   "source": [
    "type(d1[104])"
   ]
  },
  {
   "cell_type": "code",
   "execution_count": 12,
   "id": "8ec26bef-1f1a-4486-abe7-77b992250b3c",
   "metadata": {},
   "outputs": [
    {
     "data": {
      "text/plain": [
       "0"
      ]
     },
     "execution_count": 12,
     "metadata": {},
     "output_type": "execute_result"
    }
   ],
   "source": [
    "d1[106].count(5000)"
   ]
  },
  {
   "cell_type": "code",
   "execution_count": 13,
   "id": "15a00b38-3942-459c-bc11-d234d01505b0",
   "metadata": {},
   "outputs": [
    {
     "data": {
      "text/plain": [
       "{101: 'india', 102: 60, 105: [11, 15, 13]}"
      ]
     },
     "execution_count": 13,
     "metadata": {},
     "output_type": "execute_result"
    }
   ],
   "source": [
    "d1[106].append(30)\n",
    "d"
   ]
  },
  {
   "cell_type": "code",
   "execution_count": 14,
   "id": "dc90cbc6-f49c-4b68-b803-de521b84e061",
   "metadata": {},
   "outputs": [
    {
     "data": {
      "text/plain": [
       "{101: 'india', 102: 60, 105: [11, 15, 13]}"
      ]
     },
     "execution_count": 14,
     "metadata": {},
     "output_type": "execute_result"
    }
   ],
   "source": [
    "d1[106].insert(2,5500)\n",
    "d"
   ]
  },
  {
   "cell_type": "code",
   "execution_count": 15,
   "id": "cac3cbce-6265-4115-8ba8-b8a93530ccaa",
   "metadata": {},
   "outputs": [
    {
     "data": {
      "text/plain": [
       "{101: 200,\n",
       " 102: 600,\n",
       " 103: (30, 40, 50, 60, 70),\n",
       " 104: 4000,\n",
       " 107: 'india',\n",
       " 106: [100, 2000, 5500, 3000, 30]}"
      ]
     },
     "execution_count": 15,
     "metadata": {},
     "output_type": "execute_result"
    }
   ],
   "source": [
    "d1.update({103:(30,40,50,60,70)})\n",
    "d1"
   ]
  },
  {
   "cell_type": "code",
   "execution_count": 16,
   "id": "5387541a-203a-4c7d-8dab-107e5afd9c93",
   "metadata": {},
   "outputs": [
    {
     "data": {
      "text/plain": [
       "{101: 200,\n",
       " 102: 600,\n",
       " 103: (30, 40, 50, 60, 70),\n",
       " 104: 4000,\n",
       " 107: 'india',\n",
       " 106: [100, 2000, 5500, 3000, 30]}"
      ]
     },
     "execution_count": 16,
     "metadata": {},
     "output_type": "execute_result"
    }
   ],
   "source": [
    "d1.update({103:(30,40,50,60,70)})\n",
    "d1"
   ]
  },
  {
   "cell_type": "code",
   "execution_count": 17,
   "id": "d75a97af-3a6e-43a3-ab14-136b98f0c72d",
   "metadata": {},
   "outputs": [
    {
     "data": {
      "text/plain": [
       "(30, 40, 50, 60, 70)"
      ]
     },
     "execution_count": 17,
     "metadata": {},
     "output_type": "execute_result"
    }
   ],
   "source": [
    "d1[103]"
   ]
  },
  {
   "cell_type": "code",
   "execution_count": 18,
   "id": "f2f50a4f-4fe2-421a-bee3-cc801cdc10ab",
   "metadata": {},
   "outputs": [
    {
     "data": {
      "text/plain": [
       "str"
      ]
     },
     "execution_count": 18,
     "metadata": {},
     "output_type": "execute_result"
    }
   ],
   "source": [
    "type(d1[107])"
   ]
  },
  {
   "cell_type": "code",
   "execution_count": 19,
   "id": "c5d04b7a-3d41-4c6c-9130-2536ffa9280f",
   "metadata": {},
   "outputs": [
    {
     "data": {
      "text/plain": [
       "tuple"
      ]
     },
     "execution_count": 19,
     "metadata": {},
     "output_type": "execute_result"
    }
   ],
   "source": [
    "type(d1[103])"
   ]
  },
  {
   "cell_type": "code",
   "execution_count": 20,
   "id": "7cd49958-7718-42fa-8a96-d62dd6f0a406",
   "metadata": {},
   "outputs": [
    {
     "data": {
      "text/plain": [
       "{101: 200,\n",
       " 102: 600,\n",
       " 103: (30, 40, 50, 60, 70),\n",
       " 104: 4000,\n",
       " 107: 'india',\n",
       " 106: [100, 2000, 5500, 3000, 30]}"
      ]
     },
     "execution_count": 20,
     "metadata": {},
     "output_type": "execute_result"
    }
   ],
   "source": [
    "d1"
   ]
  },
  {
   "cell_type": "code",
   "execution_count": 21,
   "id": "731c8e6e-1865-432e-a137-dc43167e02a6",
   "metadata": {},
   "outputs": [
    {
     "data": {
      "text/plain": [
       "'INDIA'"
      ]
     },
     "execution_count": 21,
     "metadata": {},
     "output_type": "execute_result"
    }
   ],
   "source": [
    "d1[107].upper()"
   ]
  },
  {
   "cell_type": "code",
   "execution_count": 22,
   "id": "c10461c2-1e21-4b1f-bdbe-e8fb78334cb0",
   "metadata": {},
   "outputs": [],
   "source": [
    "d1[107]=d1[107].upper()"
   ]
  },
  {
   "cell_type": "code",
   "execution_count": null,
   "id": "1a2fdffb-fe91-44a4-8279-a93224d996a0",
   "metadata": {},
   "outputs": [],
   "source": []
  }
 ],
 "metadata": {
  "kernelspec": {
   "display_name": "Python 3 (ipykernel)",
   "language": "python",
   "name": "python3"
  },
  "language_info": {
   "codemirror_mode": {
    "name": "ipython",
    "version": 3
   },
   "file_extension": ".py",
   "mimetype": "text/x-python",
   "name": "python",
   "nbconvert_exporter": "python",
   "pygments_lexer": "ipython3",
   "version": "3.12.7"
  }
 },
 "nbformat": 4,
 "nbformat_minor": 5
}
