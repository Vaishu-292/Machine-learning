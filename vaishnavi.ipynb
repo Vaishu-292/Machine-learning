{
 "cells": [
  {
   "cell_type": "code",
   "execution_count": 1,
   "id": "7506385e-3126-4063-a811-5a8dd5946ca1",
   "metadata": {},
   "outputs": [
    {
     "name": "stdout",
     "output_type": "stream",
     "text": [
      "Integer variable: 10, Type: <class 'int'>\n",
      "Float variable: 3.14, Type: <class 'float'>\n",
      "String variable: Hello, World!, Type: <class 'str'>\n",
      "Boolean variable: True, Type: <class 'bool'>\n"
     ]
    }
   ],
   "source": [
    "integer_var = 10\n",
    "float_var = 3.14\n",
    "string_var = \"Hello, World!\"\n",
    "boolean_var = True\n",
    "print(f\"Integer variable: {integer_var}, Type: {type(integer_var)}\")\n",
    "print(f\"Float variable: {float_var}, Type: {type(float_var)}\")\n",
    "print(f\"String variable: {string_var}, Type: {type(string_var)}\")\n",
    "print(f\"Boolean variable: {boolean_var}, Type: {type(boolean_var)}\")\n"
   ]
  },
  {
   "cell_type": "markdown",
   "id": "e4f1864b-885d-422c-85d0-3ce22514f50f",
   "metadata": {},
   "source": [
    "# Day 2"
   ]
  },
  {
   "cell_type": "code",
   "execution_count": 4,
   "id": "387ce42c-65ae-49c4-8cde-0773fe2c72fd",
   "metadata": {},
   "outputs": [
    {
     "name": "stdout",
     "output_type": "stream",
     "text": [
      "First element: 1\n",
      "Second element: 2\n",
      "Last element: 5\n"
     ]
    }
   ],
   "source": [
    "my_list = [1, 2, 3, 4, 5]\n",
    "first_element = my_list[0]\n",
    "second_element = my_list[1]\n",
    "last_element = my_list[-1]\n",
    "\n",
    "print(f\"First element: {first_element}\")\n",
    "print(f\"Second element: {second_element}\")\n",
    "print(f\"Last element: {last_element}\")"
   ]
  },
  {
   "cell_type": "code",
   "execution_count": 6,
   "id": "742224f7-8db0-47a7-9104-2618841e1336",
   "metadata": {},
   "outputs": [
    {
     "name": "stdout",
     "output_type": "stream",
     "text": [
      "First element: a\n",
      "Second element: b\n",
      "Last element: e\n"
     ]
    }
   ],
   "source": [
    "my_tuple = ('a', 'b', 'c', 'd', 'e')\n",
    "first_element = my_tuple[0]\n",
    "second_element = my_tuple[1]\n",
    "last_element = my_tuple[-1]\n",
    "\n",
    "print(f\"First element: {first_element}\")\n",
    "print(f\"Second element: {second_element}\")\n",
    "print(f\"Last element: {last_element}\")\n"
   ]
  },
  {
   "cell_type": "code",
   "execution_count": 8,
   "id": "914632ec-4a0b-4a59-94ae-fd04e172c3b2",
   "metadata": {},
   "outputs": [
    {
     "name": "stdout",
     "output_type": "stream",
     "text": [
      "Element with key 'one': 1\n",
      "Element with key 'two': 2\n",
      "Element with key 'five': 5\n"
     ]
    }
   ],
   "source": [
    "my_dict = {'one': 1, 'two': 2, 'three': 3, 'four': 4, 'five': 5}\n",
    "element_one = my_dict['one']\n",
    "element_two = my_dict['two']\n",
    "element_five = my_dict['five']\n",
    "\n",
    "print(f\"Element with key 'one': {element_one}\")\n",
    "print(f\"Element with key 'two': {element_two}\")\n",
    "print(f\"Element with key 'five': {element_five}\")\n"
   ]
  },
  {
   "cell_type": "markdown",
   "id": "7472ffc6-4b62-4d48-aadc-979b00d509e2",
   "metadata": {},
   "source": [
    "# Day 3"
   ]
  },
  {
   "cell_type": "code",
   "execution_count": 11,
   "id": "77abb6f1-028c-4aca-8f15-5112acd4dbfb",
   "metadata": {},
   "outputs": [
    {
     "name": "stdin",
     "output_type": "stream",
     "text": [
      "Enter marks for Subject 1:  67\n",
      "Enter marks for Subject 2:  54\n",
      "Enter marks for Subject 3:  78\n"
     ]
    },
    {
     "name": "stdout",
     "output_type": "stream",
     "text": [
      "Grade: Fail\n"
     ]
    }
   ],
   "source": [
    "def calculate_grade():\n",
    "    subject1 = float(input(\"Enter marks for Subject 1: \"))\n",
    "    subject2 = float(input(\"Enter marks for Subject 2: \"))\n",
    "    subject3 = float(input(\"Enter marks for Subject 3: \"))\n",
    "    average_marks = (subject1 + subject2 + subject3) / 3\n",
    "    if average_marks >= 90:\n",
    "        grade = \"A\"\n",
    "    elif 80 <= average_marks < 90:\n",
    "        grade = \"B\"\n",
    "    elif 70 <= average_marks < 80:\n",
    "        grade = \"C\"\n",
    "    else:\n",
    "        grade = \"Fail\"\n",
    "    print(f\"Grade: {grade}\")\n",
    "calculate_grade()\n"
   ]
  },
  {
   "cell_type": "markdown",
   "id": "d940a20e-b2cd-436f-9934-a31e592554db",
   "metadata": {},
   "source": [
    "# Day 4"
   ]
  },
  {
   "cell_type": "code",
   "execution_count": 17,
   "id": "016b1687-9053-43bb-b4b9-21379ea4e8a6",
   "metadata": {},
   "outputs": [
    {
     "name": "stdin",
     "output_type": "stream",
     "text": [
      "Enter a positive integer:  67\n"
     ]
    },
    {
     "name": "stdout",
     "output_type": "stream",
     "text": [
      "The sum of all even numbers between 1 and 67 is: 1122\n"
     ]
    }
   ],
   "source": [
    "def sum_of_even_numbers(n):\n",
    "    total_sum = 0\n",
    "    for i in range(1, n+1):\n",
    "        if i % 2 == 0:\n",
    "            total_sum += i\n",
    "    \n",
    "    return total_sum\n",
    "n = int(input(\"Enter a positive integer: \"))\n",
    "result = sum_of_even_numbers(n)\n",
    "print(f\"The sum of all even numbers between 1 and {n} is: {result}\")\n"
   ]
  },
  {
   "cell_type": "markdown",
   "id": "b8a96496-7e98-4d12-bb56-e9619480c456",
   "metadata": {},
   "source": [
    "# Day 5"
   ]
  },
  {
   "cell_type": "code",
   "execution_count": 20,
   "id": "6611f718-d9a8-4f06-9f9f-d748199a0f9d",
   "metadata": {},
   "outputs": [
    {
     "name": "stdin",
     "output_type": "stream",
     "text": [
      "Enter a positive integer:  6\n"
     ]
    },
    {
     "name": "stdout",
     "output_type": "stream",
     "text": [
      "Numbers from 1 to 6 :\n",
      "1\n",
      "2\n",
      "3\n",
      "4\n",
      "5\n",
      "6\n",
      "The sum of all numbers from 1 to 6 is: 21\n"
     ]
    }
   ],
   "source": [
    "n = int(input(\"Enter a positive integer: \"))\n",
    "print(\"Numbers from 1 to\", n, \":\")\n",
    "for i in range(1, n+1):\n",
    "    print(i)\n",
    "sum_of_numbers = 0\n",
    "i = 1\n",
    "while i <= n:\n",
    "    sum_of_numbers += i\n",
    "    i += 1\n",
    "print(f\"The sum of all numbers from 1 to {n} is: {sum_of_numbers}\")\n"
   ]
  },
  {
   "cell_type": "code",
   "execution_count": 23,
   "id": "9b58e6a5-0fae-47d1-b4da-b676b75597b3",
   "metadata": {},
   "outputs": [
    {
     "name": "stdin",
     "output_type": "stream",
     "text": [
      "Enter a positive integer:  89\n"
     ]
    },
    {
     "name": "stdout",
     "output_type": "stream",
     "text": [
      "The square of 89 is: 7921\n"
     ]
    }
   ],
   "source": [
    "def calculate_square(n):\n",
    "    return n ** 2\n",
    "n = int(input(\"Enter a positive integer: \"))\n",
    "result = calculate_square(n)\n",
    "print(f\"The square of {n} is: {result}\")\n"
   ]
  },
  {
   "cell_type": "markdown",
   "id": "ee2276fd-76fb-4d15-81d1-6f3e15ad2440",
   "metadata": {},
   "source": [
    "# day 6"
   ]
  },
  {
   "cell_type": "code",
   "execution_count": 26,
   "id": "8861388c-2be3-48b1-a0e1-87a3b3caa439",
   "metadata": {},
   "outputs": [
    {
     "name": "stdout",
     "output_type": "stream",
     "text": [
      "DataFrame:\n",
      "    Name  Age Department  Salary\n",
      "0   John   28         HR   45000\n",
      "1  Alice   34         IT   60000\n",
      "2    Bob   23  Marketing   35000\n",
      "3  Diana   29    Finance   50000\n"
     ]
    }
   ],
   "source": [
    "import pandas as pd\n",
    "data = {\n",
    "    'Name': ['John', 'Alice', 'Bob', 'Diana'],\n",
    "    'Age': [28, 34, 23, 29],\n",
    "    'Department': ['HR', 'IT', 'Marketing', 'Finance'],\n",
    "    'Salary': [45000, 60000, 35000, 50000]\n",
    "}\n",
    "\n",
    "df = pd.DataFrame(data)\n",
    "print(\"DataFrame:\")\n",
    "print(df)\n"
   ]
  },
  {
   "cell_type": "code",
   "execution_count": 28,
   "id": "806bff87-8833-4dbe-b7b7-da57b5e14e95",
   "metadata": {},
   "outputs": [
    {
     "name": "stdout",
     "output_type": "stream",
     "text": [
      "\n",
      "First 2 rows of the DataFrame:\n",
      "    Name  Age Department  Salary\n",
      "0   John   28         HR   45000\n",
      "1  Alice   34         IT   60000\n"
     ]
    }
   ],
   "source": [
    "print(\"\\nFirst 2 rows of the DataFrame:\")\n",
    "print(df.head(2))\n"
   ]
  },
  {
   "cell_type": "code",
   "execution_count": 30,
   "id": "ca22ed93-2c38-4cec-9f11-1c44b42c1c64",
   "metadata": {},
   "outputs": [
    {
     "name": "stdout",
     "output_type": "stream",
     "text": [
      "\n",
      "DataFrame with Bonus column:\n",
      "    Name  Age Department  Salary   Bonus\n",
      "0   John   28         HR   45000  4500.0\n",
      "1  Alice   34         IT   60000  6000.0\n",
      "2    Bob   23  Marketing   35000  3500.0\n",
      "3  Diana   29    Finance   50000  5000.0\n"
     ]
    }
   ],
   "source": [
    "df['Bonus'] = df['Salary'] * 0.10\n",
    "print(\"\\nDataFrame with Bonus column:\")\n",
    "print(df)\n"
   ]
  },
  {
   "cell_type": "code",
   "execution_count": 32,
   "id": "ed470203-eaf9-4e7a-baa9-6c47e48b8851",
   "metadata": {},
   "outputs": [
    {
     "name": "stdout",
     "output_type": "stream",
     "text": [
      "\n",
      "Average Salary: 47500.0\n"
     ]
    }
   ],
   "source": [
    "average_salary = df['Salary'].mean()\n",
    "print(f\"\\nAverage Salary: {average_salary}\")\n"
   ]
  },
  {
   "cell_type": "code",
   "execution_count": 34,
   "id": "8a86ad87-a541-4ca9-a6da-33550919197f",
   "metadata": {},
   "outputs": [
    {
     "name": "stdout",
     "output_type": "stream",
     "text": [
      "\n",
      "Employees who are older than 25:\n",
      "    Name  Age Department  Salary   Bonus\n",
      "0   John   28         HR   45000  4500.0\n",
      "1  Alice   34         IT   60000  6000.0\n",
      "3  Diana   29    Finance   50000  5000.0\n"
     ]
    }
   ],
   "source": [
    "filtered_df = df[df['Age'] > 25]\n",
    "print(\"\\nEmployees who are older than 25:\")\n",
    "print(filtered_df)"
   ]
  },
  {
   "cell_type": "code",
   "execution_count": null,
   "id": "879a56fc-b365-4d04-8c10-3b6e4aa6a1b1",
   "metadata": {},
   "outputs": [],
   "source": []
  }
 ],
 "metadata": {
  "kernelspec": {
   "display_name": "Python [conda env:base] *",
   "language": "python",
   "name": "conda-base-py"
  },
  "language_info": {
   "codemirror_mode": {
    "name": "ipython",
    "version": 3
   },
   "file_extension": ".py",
   "mimetype": "text/x-python",
   "name": "python",
   "nbconvert_exporter": "python",
   "pygments_lexer": "ipython3",
   "version": "3.12.7"
  }
 },
 "nbformat": 4,
 "nbformat_minor": 5
}
