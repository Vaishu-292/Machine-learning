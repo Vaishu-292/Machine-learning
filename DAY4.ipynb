{
 "cells": [
  {
   "cell_type": "code",
   "execution_count": 1,
   "id": "42ec8cf7-304f-4d8a-af95-b68e3fb69e5c",
   "metadata": {},
   "outputs": [
    {
     "data": {
      "text/plain": [
       "[40, 20, 80, 50, 30, 60, 90]"
      ]
     },
     "execution_count": 1,
     "metadata": {},
     "output_type": "execute_result"
    }
   ],
   "source": [
    "dollars=[40,20,80,50,30,60,90]\n",
    "dollars"
   ]
  },
  {
   "cell_type": "code",
   "execution_count": 2,
   "id": "1898287c-3fe4-4691-b79e-fa3379e85d82",
   "metadata": {},
   "outputs": [],
   "source": [
    "list=[]\n",
    "for i in dollars:\n",
    "    list.append(i*85)"
   ]
  },
  {
   "cell_type": "code",
   "execution_count": 3,
   "id": "6d70599e-ee5f-48ae-b551-63e0c035b078",
   "metadata": {},
   "outputs": [
    {
     "data": {
      "text/plain": [
       "[3400, 1700, 6800, 4250, 2550, 5100, 7650]"
      ]
     },
     "execution_count": 3,
     "metadata": {},
     "output_type": "execute_result"
    }
   ],
   "source": [
    "list"
   ]
  },
  {
   "cell_type": "code",
   "execution_count": 5,
   "id": "93f71678-e986-4cc2-9200-10e81471ff21",
   "metadata": {},
   "outputs": [
    {
     "data": {
      "text/plain": [
       "[31, 45, 66, 33, 90, 78, 67, 87, 89, 93, 25, 59, 9, 81]"
      ]
     },
     "execution_count": 5,
     "metadata": {},
     "output_type": "execute_result"
    }
   ],
   "source": [
    "num=[31,45,66,33,90,78,67,87,89,93,25,59,9,81]\n",
    "num"
   ]
  },
  {
   "cell_type": "code",
   "execution_count": 6,
   "id": "1f01c1ee-c30e-431c-8441-ca8ff2ca0e32",
   "metadata": {},
   "outputs": [
    {
     "name": "stdout",
     "output_type": "stream",
     "text": [
      "Even:  [66, 90, 78]\n",
      "odd:  [31, 45, 33, 67, 87, 89, 93, 25, 59, 9, 81]\n"
     ]
    }
   ],
   "source": [
    "odd=[]\n",
    "even=[]\n",
    "for i in num:\n",
    "    if i%2==0:\n",
    "        even.append(i)\n",
    "    else:\n",
    "        odd.append(i)\n",
    "print(\"Even: \",even)\n",
    "print(\"odd: \",odd)"
   ]
  },
  {
   "cell_type": "code",
   "execution_count": 7,
   "id": "b9fdef2e-eec8-49fa-8829-568c7e2604df",
   "metadata": {},
   "outputs": [
    {
     "data": {
      "text/plain": [
       "[39, 45, 66, 93, 90, 78, 67, 87, 89, 93, 25, 59, 49, 91]"
      ]
     },
     "execution_count": 7,
     "metadata": {},
     "output_type": "execute_result"
    }
   ],
   "source": [
    "num1=[39,45,66,93,90,78,67,87,89,93,25,59,49,91]\n",
    "num1"
   ]
  },
  {
   "cell_type": "code",
   "execution_count": 8,
   "id": "f4523463-1c3e-4e1e-a30e-5b418ba3a59e",
   "metadata": {},
   "outputs": [
    {
     "data": {
      "text/plain": [
       "[31, 45, 66, 13, 10, 78, 67, 87, 81, 13, 25, 51, 41, 11]"
      ]
     },
     "execution_count": 8,
     "metadata": {},
     "output_type": "execute_result"
    }
   ],
   "source": [
    "num1 = [39, 45, 66, 93, 90, 78, 67, 87, 89, 93, 25, 59, 49, 91]\n",
    "num1 = [int(str(x).replace('9', '1')) for x in num1]\n",
    "num1"
   ]
  },
  {
   "cell_type": "code",
   "execution_count": 9,
   "id": "1014373e-c411-45c2-9f36-bb6531bab8d1",
   "metadata": {},
   "outputs": [
    {
     "data": {
      "text/plain": [
       "[31, 45, 66, 13, 10, 75, 67, 57, 51, 13, 25, 51, 41, 11]"
      ]
     },
     "execution_count": 9,
     "metadata": {},
     "output_type": "execute_result"
    }
   ],
   "source": [
    "h=[]\n",
    "for i in num1:\n",
    "    a=str(i)\n",
    "    b=a.replace('8','5')\n",
    "    c=int(b)\n",
    "    h.append(c)\n",
    "h"
   ]
  },
  {
   "cell_type": "code",
   "execution_count": null,
   "id": "580b2950-7811-4d82-9664-5721f035420a",
   "metadata": {},
   "outputs": [],
   "source": []
  }
 ],
 "metadata": {
  "kernelspec": {
   "display_name": "Python 3 (ipykernel)",
   "language": "python",
   "name": "python3"
  },
  "language_info": {
   "codemirror_mode": {
    "name": "ipython",
    "version": 3
   },
   "file_extension": ".py",
   "mimetype": "text/x-python",
   "name": "python",
   "nbconvert_exporter": "python",
   "pygments_lexer": "ipython3",
   "version": "3.12.7"
  }
 },
 "nbformat": 4,
 "nbformat_minor": 5
}
